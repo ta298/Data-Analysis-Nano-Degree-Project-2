{
 "cells": [
  {
   "cell_type": "markdown",
   "metadata": {},
   "source": [
    "# Titanic: Who boarded and who survived? \n",
    "\n",
    "The dataset that I am going to analyze here has information on 891 out of 2224 passengers and crew who boarded the ill-fated Titanic. The dataset gives us information on whether or not a person survived, what passenger class they boarded on, gender, age, number of family members on-board, passenger fare, and where each passenger boarded the ship. \n",
    "\n",
    "Most obvious question of interest would be which group of people are more likely to survive.  It would be interesting to study:\n",
    "\n",
    "**1) Are first class/higher fare passengers more likely to survive?**\n",
    "\n",
    "**2) Is there a relationship between survival and age?**\n",
    "\n",
    "**3) Are both genders equally likely to survive?** \n",
    "\n",
    "\n",
    "It would be interesting to know if people with more family members on board are more likely to survive.\n",
    "\n",
    "First, let us start with reading in the information into a Pandas dataframe, as the groupby function should be very useful with a dataset such as this."
   ]
  },
  {
   "cell_type": "code",
   "execution_count": 9,
   "metadata": {
    "collapsed": false
   },
   "outputs": [
    {
     "data": {
      "text/html": [
       "<div>\n",
       "<table border=\"1\" class=\"dataframe\">\n",
       "  <thead>\n",
       "    <tr style=\"text-align: right;\">\n",
       "      <th></th>\n",
       "      <th>Survived</th>\n",
       "      <th>Pclass</th>\n",
       "      <th>Name</th>\n",
       "      <th>Sex</th>\n",
       "      <th>Age</th>\n",
       "      <th>SibSp</th>\n",
       "      <th>Parch</th>\n",
       "      <th>Ticket</th>\n",
       "      <th>Fare</th>\n",
       "      <th>Cabin</th>\n",
       "      <th>Embarked</th>\n",
       "    </tr>\n",
       "    <tr>\n",
       "      <th>PassengerId</th>\n",
       "      <th></th>\n",
       "      <th></th>\n",
       "      <th></th>\n",
       "      <th></th>\n",
       "      <th></th>\n",
       "      <th></th>\n",
       "      <th></th>\n",
       "      <th></th>\n",
       "      <th></th>\n",
       "      <th></th>\n",
       "      <th></th>\n",
       "    </tr>\n",
       "  </thead>\n",
       "  <tbody>\n",
       "    <tr>\n",
       "      <th>1</th>\n",
       "      <td>0</td>\n",
       "      <td>3</td>\n",
       "      <td>Braund, Mr. Owen Harris</td>\n",
       "      <td>male</td>\n",
       "      <td>22.0</td>\n",
       "      <td>1</td>\n",
       "      <td>0</td>\n",
       "      <td>A/5 21171</td>\n",
       "      <td>7.2500</td>\n",
       "      <td>NaN</td>\n",
       "      <td>S</td>\n",
       "    </tr>\n",
       "    <tr>\n",
       "      <th>2</th>\n",
       "      <td>1</td>\n",
       "      <td>1</td>\n",
       "      <td>Cumings, Mrs. John Bradley (Florence Briggs Th...</td>\n",
       "      <td>female</td>\n",
       "      <td>38.0</td>\n",
       "      <td>1</td>\n",
       "      <td>0</td>\n",
       "      <td>PC 17599</td>\n",
       "      <td>71.2833</td>\n",
       "      <td>C85</td>\n",
       "      <td>C</td>\n",
       "    </tr>\n",
       "    <tr>\n",
       "      <th>3</th>\n",
       "      <td>1</td>\n",
       "      <td>3</td>\n",
       "      <td>Heikkinen, Miss. Laina</td>\n",
       "      <td>female</td>\n",
       "      <td>26.0</td>\n",
       "      <td>0</td>\n",
       "      <td>0</td>\n",
       "      <td>STON/O2. 3101282</td>\n",
       "      <td>7.9250</td>\n",
       "      <td>NaN</td>\n",
       "      <td>S</td>\n",
       "    </tr>\n",
       "    <tr>\n",
       "      <th>4</th>\n",
       "      <td>1</td>\n",
       "      <td>1</td>\n",
       "      <td>Futrelle, Mrs. Jacques Heath (Lily May Peel)</td>\n",
       "      <td>female</td>\n",
       "      <td>35.0</td>\n",
       "      <td>1</td>\n",
       "      <td>0</td>\n",
       "      <td>113803</td>\n",
       "      <td>53.1000</td>\n",
       "      <td>C123</td>\n",
       "      <td>S</td>\n",
       "    </tr>\n",
       "    <tr>\n",
       "      <th>5</th>\n",
       "      <td>0</td>\n",
       "      <td>3</td>\n",
       "      <td>Allen, Mr. William Henry</td>\n",
       "      <td>male</td>\n",
       "      <td>35.0</td>\n",
       "      <td>0</td>\n",
       "      <td>0</td>\n",
       "      <td>373450</td>\n",
       "      <td>8.0500</td>\n",
       "      <td>NaN</td>\n",
       "      <td>S</td>\n",
       "    </tr>\n",
       "  </tbody>\n",
       "</table>\n",
       "</div>"
      ],
      "text/plain": [
       "             Survived  Pclass  \\\n",
       "PassengerId                     \n",
       "1                   0       3   \n",
       "2                   1       1   \n",
       "3                   1       3   \n",
       "4                   1       1   \n",
       "5                   0       3   \n",
       "\n",
       "                                                          Name     Sex   Age  \\\n",
       "PassengerId                                                                    \n",
       "1                                      Braund, Mr. Owen Harris    male  22.0   \n",
       "2            Cumings, Mrs. John Bradley (Florence Briggs Th...  female  38.0   \n",
       "3                                       Heikkinen, Miss. Laina  female  26.0   \n",
       "4                 Futrelle, Mrs. Jacques Heath (Lily May Peel)  female  35.0   \n",
       "5                                     Allen, Mr. William Henry    male  35.0   \n",
       "\n",
       "             SibSp  Parch            Ticket     Fare Cabin Embarked  \n",
       "PassengerId                                                          \n",
       "1                1      0         A/5 21171   7.2500   NaN        S  \n",
       "2                1      0          PC 17599  71.2833   C85        C  \n",
       "3                0      0  STON/O2. 3101282   7.9250   NaN        S  \n",
       "4                1      0            113803  53.1000  C123        S  \n",
       "5                0      0            373450   8.0500   NaN        S  "
      ]
     },
     "metadata": {},
     "output_type": "display_data"
    }
   ],
   "source": [
    "%matplotlib inline\n",
    "import pandas as pd\n",
    "import numpy as np\n",
    "import seaborn as sns\n",
    "from IPython.display import display\n",
    "import matplotlib.pyplot as plt\n",
    "import scipy.stats as stats\n",
    "\n",
    "all_data=pd.DataFrame.from_csv(\"titanic-data.csv\")\n",
    "display(all_data.head())"
   ]
  },
  {
   "cell_type": "markdown",
   "metadata": {},
   "source": [
    "Some exploration of the data may be useful in case there are unexpected anomalies, so I can try to print out distributions of certain factors."
   ]
  },
  {
   "cell_type": "code",
   "execution_count": 93,
   "metadata": {
    "collapsed": false
   },
   "outputs": [
    {
     "data": {
      "image/png": "[encoded data removed]",
      "text/plain": [
       "<matplotlib.figure.Figure at 0x11755a590>"
      ]
     },
     "metadata": {},
     "output_type": "display_data"
    }
   ],
   "source": [
    "fig, axes = plt.subplots(nrows=1, ncols=2, sharey=False, sharex=False)\n",
    "plt.subplots_adjust(hspace = 500)\n",
    "sums_class=all_data.groupby(\"Pclass\").count()\n",
    "x_class=sums_class.index.values\n",
    "sums_survivor=all_data.groupby(\"Survived\").count()\n",
    "\n",
    "#Bar Chart for Passenger Class\n",
    "axes[0].bar(sums_class.index.values, sums_class['Survived'], width=1.0)\n",
    "axes[0].set_xlabel('Passenger Class')\n",
    "axes[0].set_title('Passenger Class Distribution')\n",
    "axes[0].set_ylabel('Counts')\n",
    "plt.sca(axes[0])\n",
    "plt.xticks(sums_class.index.values+0.5, sums_class.index.values)\n",
    "\n",
    "#Bar chart for those who perished vs those who survived\n",
    "axes[1].bar(sums_survivor.index.values, sums_survivor['Fare'], width=1.0)\n",
    "axes[1].set_xlabel('Survival Status')\n",
    "axes[1].set_title('Survivor Distribution')\n",
    "plt.sca(axes[1])\n",
    "plt.xticks(sums_survivor.index.values+0.5, [\"Perished\",\"Survived\"])\n",
    "#all_data['Pclass'].(ax=axes[0],kind=\"bar\",x=\"Class\",xticks=[1,2,3])\n",
    "#all_data['Survived'].plot(ax=axes[1],kind=\"bar\",x=\"Survival\",xticks=[0,1])\n",
    "plt.show()"
   ]
  },
  {
   "cell_type": "markdown",
   "metadata": {},
   "source": [
    "## Passenger Class"
   ]
  },
  {
   "cell_type": "markdown",
   "metadata": {},
   "source": [
    "The distribuiton of survivor by class:"
   ]
  },
  {
   "cell_type": "code",
   "execution_count": 91,
   "metadata": {
    "collapsed": false
   },
   "outputs": [
    {
     "name": "stdout",
     "output_type": "stream",
     "text": [
      "Pclass  Survived\n",
      "1       0            80\n",
      "        1           136\n",
      "2       0            97\n",
      "        1            87\n",
      "3       0           372\n",
      "        1           119\n",
      "Name: Name, dtype: int64 <class 'pandas.core.series.Series'>\n"
     ]
    },
    {
     "data": {
      "image/png": "[encoded data removed]",
      "text/plain": [
       "<matplotlib.figure.Figure at 0x118c8af90>"
      ]
     },
     "metadata": {},
     "output_type": "display_data"
    }
   ],
   "source": [
    "plt.figure()\n",
    "#by_class[\"Survived\"].plot.hist(alpha=0.4,bins=2)\n",
    "#Grouping by both class and survivor, so we can take counts and index to construct\n",
    "#a bar chart that shows how many survived/perished from each class\n",
    "\n",
    "#We can pick total counts from any column\n",
    "#except those with missing values. Let us just pick Counts from the name column\n",
    "\n",
    "survival_class_counts=all_data.groupby([\"Pclass\",\"Survived\"])[\"Name\"].count()\n",
    "print survival_class_counts, type(survival_class_counts)\n",
    "'''\n",
    "surv_num=pd.Series([0,0,0])\n",
    "per_num=pd.Series([0,0,0])\n",
    "n=0\n",
    "\n",
    "for key, values in survival_class_counts:\n",
    "    print values\n",
    "    if key[1]==0:\n",
    "        per_num[n]=values\n",
    "    else:\n",
    "        surv_num[n]=values\n",
    "    n+=1\n",
    "'''       \n",
    "plt.title(\"Survival Counts for Each Passsenger Class\")\n",
    "plt.bar([0,1],[survival_class_counts.loc[(1,0)],survival_class_counts.loc[(1,1)]],fill=False,color=\"red\",hatch=\"*\",alpha=0.5,label=\"First Class\")\n",
    "plt.bar([0,1],[survival_class_counts.loc[(2,0)],survival_class_counts.loc[(2,1)]],color=\"blue\",alpha=0.5,label=\"Second Class\")\n",
    "plt.bar([0,1],[survival_class_counts.loc[(3,0)],survival_class_counts.loc[(3,1)]],fill=False,color=\"green\",alpha=0.5,hatch=\"/\",label=\"Third Class\")\n",
    "\n",
    "#plt.bar([0,1],[per_num[0],surv_num[0]],color=\"blue\",alpha=0.5,label=\"First Class\")\n",
    "#plt.bar([0,1],[per_num[1],surv_num[1]])\n",
    "#plt.bar([0,1],[per_num[2],surv_num[2]])\n",
    "\n",
    "plt.xticks([0.5,1.5], [\"Perished\",\"Survived\"])\n",
    "plt.xlabel('Survival Status')\n",
    "plt.ylabel('Counts')\n",
    "plt.legend()\n",
    "plt.show()\n",
    "#We also want to label correctly, and use diferennt colors\n",
    "#plt.legend()"
   ]
  },
  {
   "cell_type": "markdown",
   "metadata": {},
   "source": [
    "Number of survivors and total population in each class:"
   ]
  },
  {
   "cell_type": "code",
   "execution_count": 374,
   "metadata": {
    "collapsed": false
   },
   "outputs": [
    {
     "name": "stdout",
     "output_type": "stream",
     "text": [
      "Fraction of Survivors by class: Pclass\n",
      "1    0.629630\n",
      "2    0.472826\n",
      "3    0.242363\n",
      "Name: Survived, dtype: float64\n",
      "Non survivors Pclass\n",
      "1    0.370370\n",
      "2    0.527174\n",
      "3    0.757637\n",
      "Name: Survived, dtype: float64\n",
      "Total Populations: Pclass\n",
      "1    216\n",
      "2    184\n",
      "3    491\n",
      "dtype: int64\n"
     ]
    }
   ],
   "source": [
    "by_class=all_data.groupby(\"Pclass\")\n",
    "class_survival_mean=by_class.mean()[\"Survived\"]\n",
    "print \"Fraction of Survivors by class:\", class_survival_mean\n",
    "non_survivors_fraction=1-class_survival_mean\n",
    "print \"Non survivors\", non_survivors_fraction\n",
    "class_survival_sizes=by_class.size()\n",
    "print \"Total Populations:\", class_survival_sizes"
   ]
  },
  {
   "cell_type": "markdown",
   "metadata": {},
   "source": [
    "The mean in this case gives us total number of people who survived in each group/total number of people in that group. A higher fraction of first class passengers survived than fraction second class passengers, and an even smaller fraction of third class passengers survived. But the number of first and third class passengers are very close to each other.\n",
    "\n",
    "To test if two samples are drawn from the same population or not for binary data, there is a statistical test called Fisher's exact test, which we can use to compare the survival chances between classes.\n",
    "\n",
    "The null hypothesis in this case would be that:\n",
    "$$H_0: \\mu_{first-class} = \\mu_{second-class}$$\n",
    "$$H_A: \\mu_{first-class} >\\mu_{second-class}$$\n",
    "\n",
    "where $\\mu$ is the number of survivors, and the same hypothesis applies to any two classes (upper class has higher chances of survival for each alternative hypothesis). The p-value that the distribution of survivors to non-survivors are drawn from the same distribution is given by p-value returned by fisher exact test."
   ]
  },
  {
   "cell_type": "code",
   "execution_count": 380,
   "metadata": {
    "collapsed": false
   },
   "outputs": [
    {
     "name": "stdout",
     "output_type": "stream",
     "text": [
      "Pclass\n",
      "1    136.0\n",
      "2     87.0\n",
      "3    119.0\n",
      "dtype: float64 Pclass\n",
      "1     80.0\n",
      "2     97.0\n",
      "3    372.0\n",
      "dtype: float64\n",
      "Assuming Null Hypothesis,\n",
      "Probability that 1st and 2nd class passengers had same chances of survival: 0.00114805201764\n",
      "Probability that 1st and 3rd class passengers had same chances of survival: 1.37993734185e-22\n",
      "Probability that 2nd and 3rd class passengers had same chances of survival: 1.17822971466e-08\n"
     ]
    }
   ],
   "source": [
    "#vector multiplication to get numbers of survivors/non-survivors\n",
    "survivor_numbers=class_survival_mean*class_survival_sizes\n",
    "passed_away_numbers=non_survivors_fraction*class_survival_sizes\n",
    "#Funciton to take in these two series and give us pvalue:\n",
    "def fisher(class1, class2, survivor_numbers,passed_away_numbers, altern):\n",
    "    oddsratio, pvalue = stats.fisher_exact([[survivor_numbers.loc[class1],passed_away_numbers.loc[class1]], [survivor_numbers.loc[class2], passed_away_numbers.loc[class2]]], alternative=altern)\n",
    "    return pvalue\n",
    "\n",
    "print survivor_numbers, passed_away_numbers\n",
    "print \"Assuming Null Hypothesis,\"\n",
    "print \"Probability that 1st and 2nd class passengers had same chances of survival:\", fisher(1, 2, survivor_numbers,passed_away_numbers, \"greater\")\n",
    "print \"Probability that 1st and 3rd class passengers had same chances of survival:\", fisher(1, 3, survivor_numbers,passed_away_numbers, \"greater\")\n",
    "print \"Probability that 2nd and 3rd class passengers had same chances of survival:\", fisher(2, 3, survivor_numbers,passed_away_numbers, \"greater\")"
   ]
  },
  {
   "cell_type": "markdown",
   "metadata": {},
   "source": [
    "I think by looking these probability levels, we can say that the **difference in survival rates between classes is statistically significant**. Therefore, we can reject the null hypothesis that there was no difference in survival rates based on passenger class. This only suggest a correlation, unless we can find evidence that upper class passengers were definitely given preference - which would be a causal link."
   ]
  },
  {
   "cell_type": "markdown",
   "metadata": {},
   "source": [
    "It might be interesting to see which passengers among just the first class passengers did not survive. Those with lower fares? Older passengers?"
   ]
  },
  {
   "cell_type": "markdown",
   "metadata": {},
   "source": [
    "## Fare"
   ]
  },
  {
   "cell_type": "markdown",
   "metadata": {},
   "source": [
    "To find out if the data shows any unexpected trends, let us first look at fare distribution."
   ]
  },
  {
   "cell_type": "code",
   "execution_count": 72,
   "metadata": {
    "collapsed": false
   },
   "outputs": [
    {
     "data": {
      "text/plain": [
       "<matplotlib.text.Text at 0x11e9309d0>"
      ]
     },
     "execution_count": 72,
     "metadata": {},
     "output_type": "execute_result"
    },
    {
     "data": {
      "image/png": "[encoded data removed]",
      "text/plain": [
       "<matplotlib.figure.Figure at 0x118e66710>"
      ]
     },
     "metadata": {},
     "output_type": "display_data"
    }
   ],
   "source": [
    "plt.figure()\n",
    "plt.title(\"Fare distribution for all\")\n",
    "all_data['Fare'].plot.hist()\n",
    "plt.xlabel(\"Fare\")"
   ]
  },
  {
   "cell_type": "code",
   "execution_count": 66,
   "metadata": {
    "collapsed": false
   },
   "outputs": [
    {
     "data": {
      "text/plain": [
       "Survived  Pclass       \n",
       "0         1       count     80.000000\n",
       "                  mean      64.684008\n",
       "                  std       60.662089\n",
       "                  min        0.000000\n",
       "                  25%       27.742700\n",
       "                  50%       44.750000\n",
       "                  75%       78.937500\n",
       "                  max      263.000000\n",
       "          2       count     97.000000\n",
       "                  mean      19.412328\n",
       "                  std       15.307175\n",
       "                  min        0.000000\n",
       "                  25%       11.500000\n",
       "                  50%       13.000000\n",
       "                  75%       26.000000\n",
       "                  max       73.500000\n",
       "          3       count    372.000000\n",
       "                  mean      13.669364\n",
       "                  std       12.118338\n",
       "                  min        0.000000\n",
       "                  25%        7.750000\n",
       "                  50%        8.050000\n",
       "                  75%       15.136450\n",
       "                  max       69.550000\n",
       "1         1       count    136.000000\n",
       "                  mean      95.608029\n",
       "                  std       85.286820\n",
       "                  min       25.929200\n",
       "                  25%       50.985450\n",
       "                  50%       77.958300\n",
       "                  75%      111.481225\n",
       "                  max      512.329200\n",
       "          2       count     87.000000\n",
       "                  mean      22.055700\n",
       "                  std       10.853502\n",
       "                  min       10.500000\n",
       "                  25%       13.000000\n",
       "                  50%       21.000000\n",
       "                  75%       26.250000\n",
       "                  max       65.000000\n",
       "          3       count    119.000000\n",
       "                  mean      13.694887\n",
       "                  std       10.692993\n",
       "                  min        0.000000\n",
       "                  25%        7.775000\n",
       "                  50%        8.516700\n",
       "                  75%       15.875000\n",
       "                  max       56.495800\n",
       "Name: Fare, dtype: float64"
      ]
     },
     "execution_count": 66,
     "metadata": {},
     "output_type": "execute_result"
    }
   ],
   "source": [
    "all_data['Fare'].groupby([all_data[\"Survived\"],all_data[\"Pclass\"]]).describe()"
   ]
  },
  {
   "cell_type": "markdown",
   "metadata": {},
   "source": [
    "A function which takes a group object, and a field, and for each group, returns a histogram for that field might be useful."
   ]
  },
  {
   "cell_type": "code",
   "execution_count": 73,
   "metadata": {
    "collapsed": false
   },
   "outputs": [
    {
     "data": {
      "image/png": "[encoded data removed]",
      "text/plain": [
       "<matplotlib.figure.Figure at 0x118bae690>"
      ]
     },
     "metadata": {},
     "output_type": "display_data"
    },
    {
     "data": {
      "image/png": "[encoded data removed]",
      "text/plain": [
       "<matplotlib.figure.Figure at 0x118baea90>"
      ]
     },
     "metadata": {},
     "output_type": "display_data"
    },
    {
     "data": {
      "image/png": "[encoded data removed]",
      "text/plain": [
       "<matplotlib.figure.Figure at 0x11dbd3890>"
      ]
     },
     "metadata": {},
     "output_type": "display_data"
    }
   ],
   "source": [
    "class_survive=all_data.groupby([all_data[\"Survived\"],all_data[\"Pclass\"]])\n",
    "#A function to take a grouped object, field name and class, and create histograms by class\n",
    "#For survivors and non-survivors\n",
    "def hist_of_groups(fieldname, pclass, alph, groupedobject):\n",
    "    plt.figure()\n",
    "    survivor=pd.Series([\"Perished\",\"Survived\"])\n",
    "    plot_title=fieldname+\" Distribution for Passenger Class: \"+str(int(pclass))\n",
    "    plt.suptitle(plot_title)\n",
    "    plt.xlabel(fieldname)\n",
    "    for key,value in groupedobject.groups.iteritems():\n",
    "        if key[1]==pclass:\n",
    "            real_info=all_data[fieldname].loc[value]\n",
    "            if key[0]==0:\n",
    "                colour=\"red\"\n",
    "            else:\n",
    "                colour=\"green\"\n",
    "            real_info.plot.hist(x=fieldname, alpha=alph,label=survivor.iloc[key[0]],color=colour)\n",
    "    plt.legend()\n",
    "\n",
    "hist_of_groups(\"Fare\",1,0.4,class_survive)\n",
    "hist_of_groups(\"Fare\",2,0.4,class_survive)\n",
    "hist_of_groups(\"Fare\",3,0.4,class_survive)"
   ]
  },
  {
   "cell_type": "markdown",
   "metadata": {},
   "source": [
    "Here 1 indicates survivor and 0 means the passenger passed away. Simply looking at the histograms, we get an idea about how the fares were distributed, but cannot draw conclusions on whether or not it had an impact on survival. From the histograms of the first and second class, it seems that there might have been more survivors than non-survivors among passengers who paid higher fares. We need to investigate if this could be ruled as random chance or if the difference in fare paid and survival is statistically significant. To get some more insights, we can also represent the data using boxplots."
   ]
  },
  {
   "cell_type": "code",
   "execution_count": 183,
   "metadata": {
    "collapsed": false
   },
   "outputs": [
    {
     "data": {
      "image/png": "[encoded data removed]",
      "text/plain": [
       "<matplotlib.figure.Figure at 0x127eb8290>"
      ]
     },
     "metadata": {},
     "output_type": "display_data"
    },
    {
     "data": {
      "image/png": "[encoded data removed]",
      "text/plain": [
       "<matplotlib.figure.Figure at 0x126c79490>"
      ]
     },
     "metadata": {},
     "output_type": "display_data"
    },
    {
     "data": {
      "image/png": "[encoded data removed]",
      "text/plain": [
       "<matplotlib.figure.Figure at 0x1286270d0>"
      ]
     },
     "metadata": {},
     "output_type": "display_data"
    }
   ],
   "source": [
    "def box_plot_by_class(fieldname, pclass, groupedobject):\n",
    "    n=0\n",
    "    plt.figure()\n",
    "    for key,value in groupedobject.groups.iteritems():\n",
    "        plot_title=\"Passenger Class=\"+str(int(pclass))+\" \"+fieldname+\" Distribution\"\n",
    "        plt.suptitle(plot_title)\n",
    "        if key[1]==pclass and key[0]==0:\n",
    "            passed_away=all_data[fieldname].loc[value]\n",
    "        if key[1]==pclass and key[0]==1:\n",
    "            survived=all_data[fieldname].loc[value]\n",
    "    data = [passed_away, survived]\n",
    "    plt.boxplot(data, 0, 'gD')\n",
    "    plt.xticks([1, 2], ['Passed away', 'Survived'])\n",
    "    \n",
    "box_plot_by_class(\"Fare\",1,class_survive)\n",
    "box_plot_by_class(\"Fare\",2,class_survive)\n",
    "box_plot_by_class(\"Fare\",3,class_survive)"
   ]
  },
  {
   "cell_type": "markdown",
   "metadata": {},
   "source": [
    "I am intersted in the most expensive fare first class passenger, let us look at her/his entry. It might be intersting to look at the maximum or minimum from each column, or the top few or the bottom few in age, fare. So I will write a function which would help us look up some specific people of interest."
   ]
  },
  {
   "cell_type": "code",
   "execution_count": 293,
   "metadata": {
    "collapsed": false
   },
   "outputs": [
    {
     "data": {
      "text/html": [
       "<div>\n",
       "<table border=\"1\" class=\"dataframe\">\n",
       "  <thead>\n",
       "    <tr style=\"text-align: right;\">\n",
       "      <th></th>\n",
       "      <th>Survived</th>\n",
       "      <th>Pclass</th>\n",
       "      <th>Name</th>\n",
       "      <th>Sex</th>\n",
       "      <th>Age</th>\n",
       "      <th>SibSp</th>\n",
       "      <th>Parch</th>\n",
       "      <th>Ticket</th>\n",
       "      <th>Fare</th>\n",
       "      <th>Cabin</th>\n",
       "      <th>Embarked</th>\n",
       "    </tr>\n",
       "    <tr>\n",
       "      <th>PassengerId</th>\n",
       "      <th></th>\n",
       "      <th></th>\n",
       "      <th></th>\n",
       "      <th></th>\n",
       "      <th></th>\n",
       "      <th></th>\n",
       "      <th></th>\n",
       "      <th></th>\n",
       "      <th></th>\n",
       "      <th></th>\n",
       "      <th></th>\n",
       "    </tr>\n",
       "  </thead>\n",
       "  <tbody>\n",
       "    <tr>\n",
       "      <th>259</th>\n",
       "      <td>1</td>\n",
       "      <td>1</td>\n",
       "      <td>Ward, Miss. Anna</td>\n",
       "      <td>female</td>\n",
       "      <td>35.0</td>\n",
       "      <td>0</td>\n",
       "      <td>0</td>\n",
       "      <td>PC 17755</td>\n",
       "      <td>512.3292</td>\n",
       "      <td>NaN</td>\n",
       "      <td>C</td>\n",
       "    </tr>\n",
       "    <tr>\n",
       "      <th>738</th>\n",
       "      <td>1</td>\n",
       "      <td>1</td>\n",
       "      <td>Lesurer, Mr. Gustave J</td>\n",
       "      <td>male</td>\n",
       "      <td>35.0</td>\n",
       "      <td>0</td>\n",
       "      <td>0</td>\n",
       "      <td>PC 17755</td>\n",
       "      <td>512.3292</td>\n",
       "      <td>B101</td>\n",
       "      <td>C</td>\n",
       "    </tr>\n",
       "    <tr>\n",
       "      <th>680</th>\n",
       "      <td>1</td>\n",
       "      <td>1</td>\n",
       "      <td>Cardeza, Mr. Thomas Drake Martinez</td>\n",
       "      <td>male</td>\n",
       "      <td>36.0</td>\n",
       "      <td>0</td>\n",
       "      <td>1</td>\n",
       "      <td>PC 17755</td>\n",
       "      <td>512.3292</td>\n",
       "      <td>B51 B53 B55</td>\n",
       "      <td>C</td>\n",
       "    </tr>\n",
       "    <tr>\n",
       "      <th>89</th>\n",
       "      <td>1</td>\n",
       "      <td>1</td>\n",
       "      <td>Fortune, Miss. Mabel Helen</td>\n",
       "      <td>female</td>\n",
       "      <td>23.0</td>\n",
       "      <td>3</td>\n",
       "      <td>2</td>\n",
       "      <td>19950</td>\n",
       "      <td>263.0000</td>\n",
       "      <td>C23 C25 C27</td>\n",
       "      <td>S</td>\n",
       "    </tr>\n",
       "    <tr>\n",
       "      <th>28</th>\n",
       "      <td>0</td>\n",
       "      <td>1</td>\n",
       "      <td>Fortune, Mr. Charles Alexander</td>\n",
       "      <td>male</td>\n",
       "      <td>19.0</td>\n",
       "      <td>3</td>\n",
       "      <td>2</td>\n",
       "      <td>19950</td>\n",
       "      <td>263.0000</td>\n",
       "      <td>C23 C25 C27</td>\n",
       "      <td>S</td>\n",
       "    </tr>\n",
       "    <tr>\n",
       "      <th>342</th>\n",
       "      <td>1</td>\n",
       "      <td>1</td>\n",
       "      <td>Fortune, Miss. Alice Elizabeth</td>\n",
       "      <td>female</td>\n",
       "      <td>24.0</td>\n",
       "      <td>3</td>\n",
       "      <td>2</td>\n",
       "      <td>19950</td>\n",
       "      <td>263.0000</td>\n",
       "      <td>C23 C25 C27</td>\n",
       "      <td>S</td>\n",
       "    </tr>\n",
       "    <tr>\n",
       "      <th>439</th>\n",
       "      <td>0</td>\n",
       "      <td>1</td>\n",
       "      <td>Fortune, Mr. Mark</td>\n",
       "      <td>male</td>\n",
       "      <td>64.0</td>\n",
       "      <td>1</td>\n",
       "      <td>4</td>\n",
       "      <td>19950</td>\n",
       "      <td>263.0000</td>\n",
       "      <td>C23 C25 C27</td>\n",
       "      <td>S</td>\n",
       "    </tr>\n",
       "    <tr>\n",
       "      <th>312</th>\n",
       "      <td>1</td>\n",
       "      <td>1</td>\n",
       "      <td>Ryerson, Miss. Emily Borie</td>\n",
       "      <td>female</td>\n",
       "      <td>18.0</td>\n",
       "      <td>2</td>\n",
       "      <td>2</td>\n",
       "      <td>PC 17608</td>\n",
       "      <td>262.3750</td>\n",
       "      <td>B57 B59 B63 B66</td>\n",
       "      <td>C</td>\n",
       "    </tr>\n",
       "    <tr>\n",
       "      <th>743</th>\n",
       "      <td>1</td>\n",
       "      <td>1</td>\n",
       "      <td>Ryerson, Miss. Susan Parker \"Suzette\"</td>\n",
       "      <td>female</td>\n",
       "      <td>21.0</td>\n",
       "      <td>2</td>\n",
       "      <td>2</td>\n",
       "      <td>PC 17608</td>\n",
       "      <td>262.3750</td>\n",
       "      <td>B57 B59 B63 B66</td>\n",
       "      <td>C</td>\n",
       "    </tr>\n",
       "    <tr>\n",
       "      <th>119</th>\n",
       "      <td>0</td>\n",
       "      <td>1</td>\n",
       "      <td>Baxter, Mr. Quigg Edmond</td>\n",
       "      <td>male</td>\n",
       "      <td>24.0</td>\n",
       "      <td>0</td>\n",
       "      <td>1</td>\n",
       "      <td>PC 17558</td>\n",
       "      <td>247.5208</td>\n",
       "      <td>B58 B60</td>\n",
       "      <td>C</td>\n",
       "    </tr>\n",
       "  </tbody>\n",
       "</table>\n",
       "</div>"
      ],
      "text/plain": [
       "             Survived  Pclass                                   Name     Sex  \\\n",
       "PassengerId                                                                    \n",
       "259                 1       1                       Ward, Miss. Anna  female   \n",
       "738                 1       1                 Lesurer, Mr. Gustave J    male   \n",
       "680                 1       1     Cardeza, Mr. Thomas Drake Martinez    male   \n",
       "89                  1       1             Fortune, Miss. Mabel Helen  female   \n",
       "28                  0       1         Fortune, Mr. Charles Alexander    male   \n",
       "342                 1       1         Fortune, Miss. Alice Elizabeth  female   \n",
       "439                 0       1                      Fortune, Mr. Mark    male   \n",
       "312                 1       1             Ryerson, Miss. Emily Borie  female   \n",
       "743                 1       1  Ryerson, Miss. Susan Parker \"Suzette\"  female   \n",
       "119                 0       1               Baxter, Mr. Quigg Edmond    male   \n",
       "\n",
       "              Age  SibSp  Parch    Ticket      Fare            Cabin Embarked  \n",
       "PassengerId                                                                    \n",
       "259          35.0      0      0  PC 17755  512.3292              NaN        C  \n",
       "738          35.0      0      0  PC 17755  512.3292             B101        C  \n",
       "680          36.0      0      1  PC 17755  512.3292      B51 B53 B55        C  \n",
       "89           23.0      3      2     19950  263.0000      C23 C25 C27        S  \n",
       "28           19.0      3      2     19950  263.0000      C23 C25 C27        S  \n",
       "342          24.0      3      2     19950  263.0000      C23 C25 C27        S  \n",
       "439          64.0      1      4     19950  263.0000      C23 C25 C27        S  \n",
       "312          18.0      2      2  PC 17608  262.3750  B57 B59 B63 B66        C  \n",
       "743          21.0      2      2  PC 17608  262.3750  B57 B59 B63 B66        C  \n",
       "119          24.0      0      1  PC 17558  247.5208          B58 B60        C  "
      ]
     },
     "metadata": {},
     "output_type": "display_data"
    }
   ],
   "source": [
    "#To look up the top or bottom few people in age, fare, just to see if there\n",
    "#is something interesting we might be missing\n",
    "def interesting_cases(fieldname, data_frame, percentile_of_interest, number_to_look_up=10):\n",
    "    if percentile_of_interest<0 or percentile_of_interest>100:\n",
    "        raise ValueError(\"Percentile values must be between 0 and 100.\")\n",
    "    else:\n",
    "        if percentile_of_interest>99:\n",
    "            sorted_frame=data_frame.sort_values(fieldname, ascending=False)\n",
    "            return display(sorted_frame.head(number_to_look_up))\n",
    "        elif percentile_of_interest<1:\n",
    "            sorted_frame=data_frame.sort_values(fieldname)\n",
    "            return display(sorted_frame.head(number_to_look_up))\n",
    "        else:\n",
    "            sorted_frame=data_frame.sort_values(fieldname)\n",
    "            num=data_frame[fieldname].count()\n",
    "            real_number=num*percentile_of_interest/100.0\n",
    "            end_num=round(real_number)-round(number_to_look_up/2)\n",
    "            if end_num<0:\n",
    "                end_num=0\n",
    "            real_indices=end_num+np.arange(number_to_look_up)\n",
    "            print real_indices\n",
    "            output_rows=sorted_frame.iloc[real_indices]\n",
    "            return display(output_rows)\n",
    "\n",
    "#Another way to do this:\n",
    "\n",
    "        \n",
    "#all_data.apply(interesting_cases(\"Fare\",100,4))\n",
    "interesting_cases(\"Fare\", all_data, 100, 10)"
   ]
  },
  {
   "cell_type": "markdown",
   "metadata": {},
   "source": [
    "The above table gives us some idea about how we can find family members - it might be useful to group by cabin numbers or tickets. We will not explore this variable in this analysis though!\n",
    "\n",
    "Using the means and standard deviations fares of passengers who survived and passengers who didn't, in each class, we could compare if the difference in fare between those who survived and those who did not made a significant difference. Since there are two different groups of people, we treat them as independent samples. The assumptions about the distribution is:\n",
    "\n",
    "$$H_0: \\mu_{fare-survived} = \\mu_{fare-passed-away}$$\n",
    "$$H_A: \\mu_{fare-survived} > \\mu_{fare-passed-away}$$\n",
    "\n",
    "We can do a t-statistic test for independent samples. t-statistic required a near normal distribution, or a sufficiently large sample (> 40) - which is true for all of our samples.\n",
    "\n",
    "Let us start with looking at fare differces by class first, we can consider the whole population afterwards. "
   ]
  },
  {
   "cell_type": "code",
   "execution_count": 327,
   "metadata": {
    "collapsed": false
   },
   "outputs": [],
   "source": [
    "#this function takes in a field name, a particular passenger class and a grouped object\n",
    "#type object and returns t-statistic and degrees of freedom\n",
    "#I know python has a t-statistic function, but for practice I wanted to work with \n",
    "#grouped items a little more\n",
    "def t_stat_of_groups(fieldname, pclass, groupedobject):\n",
    "    means=pd.Series([0.0,0.0])\n",
    "    stdevs=pd.Series([0.0,0.0])\n",
    "    sizes=pd.Series([0.0,0.0])\n",
    "    key_order=pd.Series([0.0,0.0])\n",
    "    n=0\n",
    "    for key,value in groupedobject.groups.iteritems():\n",
    "        if key[1]==pclass:\n",
    "            key_order[n]=key[0]\n",
    "            fare_only=all_data[fieldname].loc[value]     \n",
    "            average=fare_only.mean()\n",
    "            means[n]=average\n",
    "            stndard_dev=fare_only.std()\n",
    "            stdevs[n]=stndard_dev\n",
    "            siz=fare_only.count()\n",
    "            sizes[n]=siz\n",
    "            n+=1\n",
    "    standard_error=sqrt(pow(stdevs[0],2)/sizes[0]+pow(stdevs[1],2)/sizes[1])\n",
    "    #print standard_error\n",
    "    #the key order subtraction needs to be done because the grouping is strange\n",
    "    #not all survival 0 appear consecutively, so I am not sure which direction to \n",
    "    #subtract from. But this is a one tailed test so it must be survived-did not survive\n",
    "    #hence this correction factor\n",
    "    t_stat=(key_order[0]-key_order[1])*(means[0]-means[1])/standard_error\n",
    "    deg_of_free=sizes.sum()-2\n",
    "    return t_stat, deg_of_free"
   ]
  },
  {
   "cell_type": "markdown",
   "metadata": {},
   "source": [
    "Running on passenger class 1 (this function returns t-statistic for the surviving and non-surviving cases for and the degree of freedom for a particular cases):"
   ]
  },
  {
   "cell_type": "code",
   "execution_count": 189,
   "metadata": {
    "collapsed": false
   },
   "outputs": [
    {
     "name": "stdout",
     "output_type": "stream",
     "text": [
      "(3.1004311018316248, 214.0)\n"
     ]
    }
   ],
   "source": [
    "fare_first_class_t=t_stat_of_groups(\"Fare\",1,class_survive)\n",
    "print fare_first_class_t"
   ]
  },
  {
   "cell_type": "markdown",
   "metadata": {},
   "source": [
    "From Graphpad, I found that this value of t corresponds to a probability of 0.0022 that these two fare distributions are drawn from the same sample - i.e. the difference in fares is statistically significant. However, this is a one tailed test. If we assume that this is an approximately symmetrical distribution (which is not really accurate in this case), then the probability of a one-tailed t-test is half the value of probability of the two-tailed t-test. So, the probability corresponding to this t-value for a one-tailed t-test must be even smaller. In any case, I think this t-statistic indicate that at least at an $\\alpha$ level of 0.05. **So, we can reject the null hypothesis. The fare is statistically significant for those who survived and those who did not for Passenger from first class**. \n",
    "\n",
    "A statistical significance does not imply causality, but we can measure effect using $r^2$ value:\n",
    "\n",
    "$$r^2 = \\frac{t^2}{t^2 + df}$$"
   ]
  },
  {
   "cell_type": "code",
   "execution_count": 191,
   "metadata": {
    "collapsed": false
   },
   "outputs": [
    {
     "data": {
      "text/plain": [
       "0.8277743636596947"
      ]
     },
     "execution_count": 191,
     "metadata": {},
     "output_type": "execute_result"
    }
   ],
   "source": [
    "def rsquare(tval,df):\n",
    "    return pow(tval,2)/(pow(tval,2)+2)\n",
    "    \n",
    "    \n",
    "rsquare(fare_first_class_t[0],fare_first_class_t[1])"
   ]
  },
  {
   "cell_type": "markdown",
   "metadata": {},
   "source": [
    "The $r^2$ indicates a 83% correlation between fare and survival of a first class passenger. This still does not indicate causality, just very strong correlation.\n",
    "\n",
    "Now let us explore the difference for passengers from second and third classes:"
   ]
  },
  {
   "cell_type": "code",
   "execution_count": 180,
   "metadata": {
    "collapsed": false
   },
   "outputs": [
    {
     "name": "stdout",
     "output_type": "stream",
     "text": [
      "(1.3614837907273991, 182.0)\n",
      "(0.021921324946250934, 489.0)\n"
     ]
    }
   ],
   "source": [
    "print t_stat_of_groups(\"Fare\",2,class_survive)\n",
    "print t_stat_of_groups(\"Fare\",3,class_survive)"
   ]
  },
  {
   "cell_type": "markdown",
   "metadata": {},
   "source": [
    "For the second class passengers, the t-statistic is 1.36 and degree of freedom is 182. The two-tailed t-test probability for this value is 0.176, half of which (for one-tailed test) is still 0.088, greater than an $\\alpha$ level of 0.05. So fare did not make a significant difference for the second class passengers.\n",
    "\n",
    "For the third class passengers, the t-statistic is 0.02 and degree of freedom is 489. The p value for two-tailed test is 0.9825 - so this cannot be considered a statistically significant difference."
   ]
  },
  {
   "cell_type": "markdown",
   "metadata": {},
   "source": [
    "## Age\n",
    "\n",
    "To start the analysis by age, we tried this:"
   ]
  },
  {
   "cell_type": "code",
   "execution_count": 233,
   "metadata": {
    "collapsed": false
   },
   "outputs": [
    {
     "data": {
      "text/plain": [
       "Survived  Pclass       \n",
       "0         1       count     64.000000\n",
       "                  mean      43.695312\n",
       "                  std       15.284243\n",
       "                  min        2.000000\n",
       "                  25%             NaN\n",
       "                  50%             NaN\n",
       "                  75%             NaN\n",
       "                  max       71.000000\n",
       "          2       count     90.000000\n",
       "                  mean      33.544444\n",
       "                  std       12.151581\n",
       "                  min       16.000000\n",
       "                  25%             NaN\n",
       "                  50%             NaN\n",
       "                  75%             NaN\n",
       "                  max       70.000000\n",
       "          3       count    270.000000\n",
       "                  mean      26.555556\n",
       "                  std       12.334882\n",
       "                  min        1.000000\n",
       "                  25%             NaN\n",
       "                  50%             NaN\n",
       "                  75%             NaN\n",
       "                  max       74.000000\n",
       "1         1       count    122.000000\n",
       "                  mean      35.368197\n",
       "                  std       13.760017\n",
       "                  min        0.920000\n",
       "                  25%             NaN\n",
       "                  50%             NaN\n",
       "                  75%             NaN\n",
       "                  max       80.000000\n",
       "          2       count     83.000000\n",
       "                  mean      25.901566\n",
       "                  std       14.837787\n",
       "                  min        0.670000\n",
       "                  25%             NaN\n",
       "                  50%             NaN\n",
       "                  75%             NaN\n",
       "                  max       62.000000\n",
       "          3       count     85.000000\n",
       "                  mean      20.646118\n",
       "                  std       11.995047\n",
       "                  min        0.420000\n",
       "                  25%             NaN\n",
       "                  50%             NaN\n",
       "                  75%             NaN\n",
       "                  max       63.000000\n",
       "Name: Age, dtype: float64"
      ]
     },
     "execution_count": 233,
     "metadata": {},
     "output_type": "execute_result"
    }
   ],
   "source": [
    "all_age_data['Age'].groupby([all_age_data[\"Survived\"],all_age_data[\"Pclass\"]]).describe()"
   ]
  },
  {
   "cell_type": "markdown",
   "metadata": {},
   "source": [
    "It seems we have encountered an issue with Age entries, to investigate, we print out more lines (I printed out a lot more at first, but the first 7 are enough to demonstrate the problem):"
   ]
  },
  {
   "cell_type": "code",
   "execution_count": 193,
   "metadata": {
    "collapsed": false
   },
   "outputs": [
    {
     "data": {
      "text/html": [
       "<div>\n",
       "<table border=\"1\" class=\"dataframe\">\n",
       "  <thead>\n",
       "    <tr style=\"text-align: right;\">\n",
       "      <th></th>\n",
       "      <th>Survived</th>\n",
       "      <th>Pclass</th>\n",
       "      <th>Name</th>\n",
       "      <th>Sex</th>\n",
       "      <th>Age</th>\n",
       "      <th>SibSp</th>\n",
       "      <th>Parch</th>\n",
       "      <th>Ticket</th>\n",
       "      <th>Fare</th>\n",
       "      <th>Cabin</th>\n",
       "      <th>Embarked</th>\n",
       "    </tr>\n",
       "    <tr>\n",
       "      <th>PassengerId</th>\n",
       "      <th></th>\n",
       "      <th></th>\n",
       "      <th></th>\n",
       "      <th></th>\n",
       "      <th></th>\n",
       "      <th></th>\n",
       "      <th></th>\n",
       "      <th></th>\n",
       "      <th></th>\n",
       "      <th></th>\n",
       "      <th></th>\n",
       "    </tr>\n",
       "  </thead>\n",
       "  <tbody>\n",
       "    <tr>\n",
       "      <th>1</th>\n",
       "      <td>0</td>\n",
       "      <td>3</td>\n",
       "      <td>Braund, Mr. Owen Harris</td>\n",
       "      <td>male</td>\n",
       "      <td>22.0</td>\n",
       "      <td>1</td>\n",
       "      <td>0</td>\n",
       "      <td>A/5 21171</td>\n",
       "      <td>7.2500</td>\n",
       "      <td>NaN</td>\n",
       "      <td>S</td>\n",
       "    </tr>\n",
       "    <tr>\n",
       "      <th>2</th>\n",
       "      <td>1</td>\n",
       "      <td>1</td>\n",
       "      <td>Cumings, Mrs. John Bradley (Florence Briggs Th...</td>\n",
       "      <td>female</td>\n",
       "      <td>38.0</td>\n",
       "      <td>1</td>\n",
       "      <td>0</td>\n",
       "      <td>PC 17599</td>\n",
       "      <td>71.2833</td>\n",
       "      <td>C85</td>\n",
       "      <td>C</td>\n",
       "    </tr>\n",
       "    <tr>\n",
       "      <th>3</th>\n",
       "      <td>1</td>\n",
       "      <td>3</td>\n",
       "      <td>Heikkinen, Miss. Laina</td>\n",
       "      <td>female</td>\n",
       "      <td>26.0</td>\n",
       "      <td>0</td>\n",
       "      <td>0</td>\n",
       "      <td>STON/O2. 3101282</td>\n",
       "      <td>7.9250</td>\n",
       "      <td>NaN</td>\n",
       "      <td>S</td>\n",
       "    </tr>\n",
       "    <tr>\n",
       "      <th>4</th>\n",
       "      <td>1</td>\n",
       "      <td>1</td>\n",
       "      <td>Futrelle, Mrs. Jacques Heath (Lily May Peel)</td>\n",
       "      <td>female</td>\n",
       "      <td>35.0</td>\n",
       "      <td>1</td>\n",
       "      <td>0</td>\n",
       "      <td>113803</td>\n",
       "      <td>53.1000</td>\n",
       "      <td>C123</td>\n",
       "      <td>S</td>\n",
       "    </tr>\n",
       "    <tr>\n",
       "      <th>5</th>\n",
       "      <td>0</td>\n",
       "      <td>3</td>\n",
       "      <td>Allen, Mr. William Henry</td>\n",
       "      <td>male</td>\n",
       "      <td>35.0</td>\n",
       "      <td>0</td>\n",
       "      <td>0</td>\n",
       "      <td>373450</td>\n",
       "      <td>8.0500</td>\n",
       "      <td>NaN</td>\n",
       "      <td>S</td>\n",
       "    </tr>\n",
       "    <tr>\n",
       "      <th>6</th>\n",
       "      <td>0</td>\n",
       "      <td>3</td>\n",
       "      <td>Moran, Mr. James</td>\n",
       "      <td>male</td>\n",
       "      <td>NaN</td>\n",
       "      <td>0</td>\n",
       "      <td>0</td>\n",
       "      <td>330877</td>\n",
       "      <td>8.4583</td>\n",
       "      <td>NaN</td>\n",
       "      <td>Q</td>\n",
       "    </tr>\n",
       "    <tr>\n",
       "      <th>7</th>\n",
       "      <td>0</td>\n",
       "      <td>1</td>\n",
       "      <td>McCarthy, Mr. Timothy J</td>\n",
       "      <td>male</td>\n",
       "      <td>54.0</td>\n",
       "      <td>0</td>\n",
       "      <td>0</td>\n",
       "      <td>17463</td>\n",
       "      <td>51.8625</td>\n",
       "      <td>E46</td>\n",
       "      <td>S</td>\n",
       "    </tr>\n",
       "  </tbody>\n",
       "</table>\n",
       "</div>"
      ],
      "text/plain": [
       "             Survived  Pclass  \\\n",
       "PassengerId                     \n",
       "1                   0       3   \n",
       "2                   1       1   \n",
       "3                   1       3   \n",
       "4                   1       1   \n",
       "5                   0       3   \n",
       "6                   0       3   \n",
       "7                   0       1   \n",
       "\n",
       "                                                          Name     Sex   Age  \\\n",
       "PassengerId                                                                    \n",
       "1                                      Braund, Mr. Owen Harris    male  22.0   \n",
       "2            Cumings, Mrs. John Bradley (Florence Briggs Th...  female  38.0   \n",
       "3                                       Heikkinen, Miss. Laina  female  26.0   \n",
       "4                 Futrelle, Mrs. Jacques Heath (Lily May Peel)  female  35.0   \n",
       "5                                     Allen, Mr. William Henry    male  35.0   \n",
       "6                                             Moran, Mr. James    male   NaN   \n",
       "7                                      McCarthy, Mr. Timothy J    male  54.0   \n",
       "\n",
       "             SibSp  Parch            Ticket     Fare Cabin Embarked  \n",
       "PassengerId                                                          \n",
       "1                1      0         A/5 21171   7.2500   NaN        S  \n",
       "2                1      0          PC 17599  71.2833   C85        C  \n",
       "3                0      0  STON/O2. 3101282   7.9250   NaN        S  \n",
       "4                1      0            113803  53.1000  C123        S  \n",
       "5                0      0            373450   8.0500   NaN        S  \n",
       "6                0      0            330877   8.4583   NaN        Q  \n",
       "7                0      0             17463  51.8625   E46        S  "
      ]
     },
     "metadata": {},
     "output_type": "display_data"
    }
   ],
   "source": [
    "display(all_data.head(7))"
   ]
  },
  {
   "cell_type": "markdown",
   "metadata": {},
   "source": [
    "For the age analysis, we cannot do anything with the passengers for whom we do not have age information. To find the locations of rows for which we do have age information:"
   ]
  },
  {
   "cell_type": "code",
   "execution_count": 88,
   "metadata": {
    "collapsed": false
   },
   "outputs": [
    {
     "name": "stdout",
     "output_type": "stream",
     "text": [
      "Number remaining after removing NaN: 714\n"
     ]
    },
    {
     "data": {
      "text/html": [
       "<div>\n",
       "<table border=\"1\" class=\"dataframe\">\n",
       "  <thead>\n",
       "    <tr style=\"text-align: right;\">\n",
       "      <th></th>\n",
       "      <th>Survived</th>\n",
       "      <th>Pclass</th>\n",
       "      <th>Name</th>\n",
       "      <th>Sex</th>\n",
       "      <th>Age</th>\n",
       "      <th>SibSp</th>\n",
       "      <th>Parch</th>\n",
       "      <th>Ticket</th>\n",
       "      <th>Fare</th>\n",
       "      <th>Cabin</th>\n",
       "      <th>Embarked</th>\n",
       "    </tr>\n",
       "    <tr>\n",
       "      <th>PassengerId</th>\n",
       "      <th></th>\n",
       "      <th></th>\n",
       "      <th></th>\n",
       "      <th></th>\n",
       "      <th></th>\n",
       "      <th></th>\n",
       "      <th></th>\n",
       "      <th></th>\n",
       "      <th></th>\n",
       "      <th></th>\n",
       "      <th></th>\n",
       "    </tr>\n",
       "  </thead>\n",
       "  <tbody>\n",
       "    <tr>\n",
       "      <th>1</th>\n",
       "      <td>0</td>\n",
       "      <td>3</td>\n",
       "      <td>Braund, Mr. Owen Harris</td>\n",
       "      <td>male</td>\n",
       "      <td>22.0</td>\n",
       "      <td>1</td>\n",
       "      <td>0</td>\n",
       "      <td>A/5 21171</td>\n",
       "      <td>7.2500</td>\n",
       "      <td>NaN</td>\n",
       "      <td>S</td>\n",
       "    </tr>\n",
       "    <tr>\n",
       "      <th>2</th>\n",
       "      <td>1</td>\n",
       "      <td>1</td>\n",
       "      <td>Cumings, Mrs. John Bradley (Florence Briggs Th...</td>\n",
       "      <td>female</td>\n",
       "      <td>38.0</td>\n",
       "      <td>1</td>\n",
       "      <td>0</td>\n",
       "      <td>PC 17599</td>\n",
       "      <td>71.2833</td>\n",
       "      <td>C85</td>\n",
       "      <td>C</td>\n",
       "    </tr>\n",
       "    <tr>\n",
       "      <th>3</th>\n",
       "      <td>1</td>\n",
       "      <td>3</td>\n",
       "      <td>Heikkinen, Miss. Laina</td>\n",
       "      <td>female</td>\n",
       "      <td>26.0</td>\n",
       "      <td>0</td>\n",
       "      <td>0</td>\n",
       "      <td>STON/O2. 3101282</td>\n",
       "      <td>7.9250</td>\n",
       "      <td>NaN</td>\n",
       "      <td>S</td>\n",
       "    </tr>\n",
       "    <tr>\n",
       "      <th>4</th>\n",
       "      <td>1</td>\n",
       "      <td>1</td>\n",
       "      <td>Futrelle, Mrs. Jacques Heath (Lily May Peel)</td>\n",
       "      <td>female</td>\n",
       "      <td>35.0</td>\n",
       "      <td>1</td>\n",
       "      <td>0</td>\n",
       "      <td>113803</td>\n",
       "      <td>53.1000</td>\n",
       "      <td>C123</td>\n",
       "      <td>S</td>\n",
       "    </tr>\n",
       "    <tr>\n",
       "      <th>5</th>\n",
       "      <td>0</td>\n",
       "      <td>3</td>\n",
       "      <td>Allen, Mr. William Henry</td>\n",
       "      <td>male</td>\n",
       "      <td>35.0</td>\n",
       "      <td>0</td>\n",
       "      <td>0</td>\n",
       "      <td>373450</td>\n",
       "      <td>8.0500</td>\n",
       "      <td>NaN</td>\n",
       "      <td>S</td>\n",
       "    </tr>\n",
       "    <tr>\n",
       "      <th>7</th>\n",
       "      <td>0</td>\n",
       "      <td>1</td>\n",
       "      <td>McCarthy, Mr. Timothy J</td>\n",
       "      <td>male</td>\n",
       "      <td>54.0</td>\n",
       "      <td>0</td>\n",
       "      <td>0</td>\n",
       "      <td>17463</td>\n",
       "      <td>51.8625</td>\n",
       "      <td>E46</td>\n",
       "      <td>S</td>\n",
       "    </tr>\n",
       "    <tr>\n",
       "      <th>8</th>\n",
       "      <td>0</td>\n",
       "      <td>3</td>\n",
       "      <td>Palsson, Master. Gosta Leonard</td>\n",
       "      <td>male</td>\n",
       "      <td>2.0</td>\n",
       "      <td>3</td>\n",
       "      <td>1</td>\n",
       "      <td>349909</td>\n",
       "      <td>21.0750</td>\n",
       "      <td>NaN</td>\n",
       "      <td>S</td>\n",
       "    </tr>\n",
       "  </tbody>\n",
       "</table>\n",
       "</div>"
      ],
      "text/plain": [
       "             Survived  Pclass  \\\n",
       "PassengerId                     \n",
       "1                   0       3   \n",
       "2                   1       1   \n",
       "3                   1       3   \n",
       "4                   1       1   \n",
       "5                   0       3   \n",
       "7                   0       1   \n",
       "8                   0       3   \n",
       "\n",
       "                                                          Name     Sex   Age  \\\n",
       "PassengerId                                                                    \n",
       "1                                      Braund, Mr. Owen Harris    male  22.0   \n",
       "2            Cumings, Mrs. John Bradley (Florence Briggs Th...  female  38.0   \n",
       "3                                       Heikkinen, Miss. Laina  female  26.0   \n",
       "4                 Futrelle, Mrs. Jacques Heath (Lily May Peel)  female  35.0   \n",
       "5                                     Allen, Mr. William Henry    male  35.0   \n",
       "7                                      McCarthy, Mr. Timothy J    male  54.0   \n",
       "8                               Palsson, Master. Gosta Leonard    male   2.0   \n",
       "\n",
       "             SibSp  Parch            Ticket     Fare Cabin Embarked  \n",
       "PassengerId                                                          \n",
       "1                1      0         A/5 21171   7.2500   NaN        S  \n",
       "2                1      0          PC 17599  71.2833   C85        C  \n",
       "3                0      0  STON/O2. 3101282   7.9250   NaN        S  \n",
       "4                1      0            113803  53.1000  C123        S  \n",
       "5                0      0            373450   8.0500   NaN        S  \n",
       "7                0      0             17463  51.8625   E46        S  \n",
       "8                3      1            349909  21.0750   NaN        S  "
      ]
     },
     "metadata": {},
     "output_type": "display_data"
    }
   ],
   "source": [
    "no_nan=np.where(~np.isnan(all_data[\"Age\"]))\n",
    "print \"Number remaining after removing NaN:\", np.size(no_nan)\n",
    "all_age_data=all_data.iloc[no_nan]\n",
    "display(all_age_data.head(7))\n",
    "#all_age_data.groupby(\"Survived\")[\"Age\"].apply(plt.hist) --not very useful"
   ]
  },
  {
   "cell_type": "markdown",
   "metadata": {},
   "source": [
    "The new table shows that we were able to get rid of the NaN values for age. We lost 177 entries in process of removing these NaN values. A bigger sample is more likely to give us an accurate representation, although we still retain more than 80% of the data.\n",
    "\n",
    "Just out of curiosity, we can look at the five oldest and youngest passengers:"
   ]
  },
  {
   "cell_type": "code",
   "execution_count": 386,
   "metadata": {
    "collapsed": false
   },
   "outputs": [
    {
     "name": "stdout",
     "output_type": "stream",
     "text": [
      "Oldest Passengers:\n"
     ]
    },
    {
     "data": {
      "text/html": [
       "<div>\n",
       "<table border=\"1\" class=\"dataframe\">\n",
       "  <thead>\n",
       "    <tr style=\"text-align: right;\">\n",
       "      <th></th>\n",
       "      <th>Survived</th>\n",
       "      <th>Pclass</th>\n",
       "      <th>Name</th>\n",
       "      <th>Sex</th>\n",
       "      <th>Age</th>\n",
       "      <th>SibSp</th>\n",
       "      <th>Parch</th>\n",
       "      <th>Ticket</th>\n",
       "      <th>Fare</th>\n",
       "      <th>Cabin</th>\n",
       "      <th>Embarked</th>\n",
       "    </tr>\n",
       "    <tr>\n",
       "      <th>PassengerId</th>\n",
       "      <th></th>\n",
       "      <th></th>\n",
       "      <th></th>\n",
       "      <th></th>\n",
       "      <th></th>\n",
       "      <th></th>\n",
       "      <th></th>\n",
       "      <th></th>\n",
       "      <th></th>\n",
       "      <th></th>\n",
       "      <th></th>\n",
       "    </tr>\n",
       "  </thead>\n",
       "  <tbody>\n",
       "    <tr>\n",
       "      <th>631</th>\n",
       "      <td>1</td>\n",
       "      <td>1</td>\n",
       "      <td>Barkworth, Mr. Algernon Henry Wilson</td>\n",
       "      <td>male</td>\n",
       "      <td>80.0</td>\n",
       "      <td>0</td>\n",
       "      <td>0</td>\n",
       "      <td>27042</td>\n",
       "      <td>30.0000</td>\n",
       "      <td>A23</td>\n",
       "      <td>S</td>\n",
       "    </tr>\n",
       "    <tr>\n",
       "      <th>852</th>\n",
       "      <td>0</td>\n",
       "      <td>3</td>\n",
       "      <td>Svensson, Mr. Johan</td>\n",
       "      <td>male</td>\n",
       "      <td>74.0</td>\n",
       "      <td>0</td>\n",
       "      <td>0</td>\n",
       "      <td>347060</td>\n",
       "      <td>7.7750</td>\n",
       "      <td>NaN</td>\n",
       "      <td>S</td>\n",
       "    </tr>\n",
       "    <tr>\n",
       "      <th>494</th>\n",
       "      <td>0</td>\n",
       "      <td>1</td>\n",
       "      <td>Artagaveytia, Mr. Ramon</td>\n",
       "      <td>male</td>\n",
       "      <td>71.0</td>\n",
       "      <td>0</td>\n",
       "      <td>0</td>\n",
       "      <td>PC 17609</td>\n",
       "      <td>49.5042</td>\n",
       "      <td>NaN</td>\n",
       "      <td>C</td>\n",
       "    </tr>\n",
       "    <tr>\n",
       "      <th>97</th>\n",
       "      <td>0</td>\n",
       "      <td>1</td>\n",
       "      <td>Goldschmidt, Mr. George B</td>\n",
       "      <td>male</td>\n",
       "      <td>71.0</td>\n",
       "      <td>0</td>\n",
       "      <td>0</td>\n",
       "      <td>PC 17754</td>\n",
       "      <td>34.6542</td>\n",
       "      <td>A5</td>\n",
       "      <td>C</td>\n",
       "    </tr>\n",
       "    <tr>\n",
       "      <th>117</th>\n",
       "      <td>0</td>\n",
       "      <td>3</td>\n",
       "      <td>Connors, Mr. Patrick</td>\n",
       "      <td>male</td>\n",
       "      <td>70.5</td>\n",
       "      <td>0</td>\n",
       "      <td>0</td>\n",
       "      <td>370369</td>\n",
       "      <td>7.7500</td>\n",
       "      <td>NaN</td>\n",
       "      <td>Q</td>\n",
       "    </tr>\n",
       "  </tbody>\n",
       "</table>\n",
       "</div>"
      ],
      "text/plain": [
       "             Survived  Pclass                                  Name   Sex  \\\n",
       "PassengerId                                                                 \n",
       "631                 1       1  Barkworth, Mr. Algernon Henry Wilson  male   \n",
       "852                 0       3                   Svensson, Mr. Johan  male   \n",
       "494                 0       1               Artagaveytia, Mr. Ramon  male   \n",
       "97                  0       1             Goldschmidt, Mr. George B  male   \n",
       "117                 0       3                  Connors, Mr. Patrick  male   \n",
       "\n",
       "              Age  SibSp  Parch    Ticket     Fare Cabin Embarked  \n",
       "PassengerId                                                        \n",
       "631          80.0      0      0     27042  30.0000   A23        S  \n",
       "852          74.0      0      0    347060   7.7750   NaN        S  \n",
       "494          71.0      0      0  PC 17609  49.5042   NaN        C  \n",
       "97           71.0      0      0  PC 17754  34.6542    A5        C  \n",
       "117          70.5      0      0    370369   7.7500   NaN        Q  "
      ]
     },
     "metadata": {},
     "output_type": "display_data"
    }
   ],
   "source": [
    "print \"Oldest Passengers:\"\n",
    "interesting_cases(\"Age\", all_data, 100, 5)"
   ]
  },
  {
   "cell_type": "code",
   "execution_count": 387,
   "metadata": {
    "collapsed": false
   },
   "outputs": [
    {
     "name": "stdout",
     "output_type": "stream",
     "text": [
      "Youngest Passengers:\n"
     ]
    },
    {
     "data": {
      "text/html": [
       "<div>\n",
       "<table border=\"1\" class=\"dataframe\">\n",
       "  <thead>\n",
       "    <tr style=\"text-align: right;\">\n",
       "      <th></th>\n",
       "      <th>Survived</th>\n",
       "      <th>Pclass</th>\n",
       "      <th>Name</th>\n",
       "      <th>Sex</th>\n",
       "      <th>Age</th>\n",
       "      <th>SibSp</th>\n",
       "      <th>Parch</th>\n",
       "      <th>Ticket</th>\n",
       "      <th>Fare</th>\n",
       "      <th>Cabin</th>\n",
       "      <th>Embarked</th>\n",
       "    </tr>\n",
       "    <tr>\n",
       "      <th>PassengerId</th>\n",
       "      <th></th>\n",
       "      <th></th>\n",
       "      <th></th>\n",
       "      <th></th>\n",
       "      <th></th>\n",
       "      <th></th>\n",
       "      <th></th>\n",
       "      <th></th>\n",
       "      <th></th>\n",
       "      <th></th>\n",
       "      <th></th>\n",
       "    </tr>\n",
       "  </thead>\n",
       "  <tbody>\n",
       "    <tr>\n",
       "      <th>804</th>\n",
       "      <td>1</td>\n",
       "      <td>3</td>\n",
       "      <td>Thomas, Master. Assad Alexander</td>\n",
       "      <td>male</td>\n",
       "      <td>0.42</td>\n",
       "      <td>0</td>\n",
       "      <td>1</td>\n",
       "      <td>2625</td>\n",
       "      <td>8.5167</td>\n",
       "      <td>NaN</td>\n",
       "      <td>C</td>\n",
       "    </tr>\n",
       "    <tr>\n",
       "      <th>756</th>\n",
       "      <td>1</td>\n",
       "      <td>2</td>\n",
       "      <td>Hamalainen, Master. Viljo</td>\n",
       "      <td>male</td>\n",
       "      <td>0.67</td>\n",
       "      <td>1</td>\n",
       "      <td>1</td>\n",
       "      <td>250649</td>\n",
       "      <td>14.5000</td>\n",
       "      <td>NaN</td>\n",
       "      <td>S</td>\n",
       "    </tr>\n",
       "    <tr>\n",
       "      <th>645</th>\n",
       "      <td>1</td>\n",
       "      <td>3</td>\n",
       "      <td>Baclini, Miss. Eugenie</td>\n",
       "      <td>female</td>\n",
       "      <td>0.75</td>\n",
       "      <td>2</td>\n",
       "      <td>1</td>\n",
       "      <td>2666</td>\n",
       "      <td>19.2583</td>\n",
       "      <td>NaN</td>\n",
       "      <td>C</td>\n",
       "    </tr>\n",
       "    <tr>\n",
       "      <th>470</th>\n",
       "      <td>1</td>\n",
       "      <td>3</td>\n",
       "      <td>Baclini, Miss. Helene Barbara</td>\n",
       "      <td>female</td>\n",
       "      <td>0.75</td>\n",
       "      <td>2</td>\n",
       "      <td>1</td>\n",
       "      <td>2666</td>\n",
       "      <td>19.2583</td>\n",
       "      <td>NaN</td>\n",
       "      <td>C</td>\n",
       "    </tr>\n",
       "    <tr>\n",
       "      <th>79</th>\n",
       "      <td>1</td>\n",
       "      <td>2</td>\n",
       "      <td>Caldwell, Master. Alden Gates</td>\n",
       "      <td>male</td>\n",
       "      <td>0.83</td>\n",
       "      <td>0</td>\n",
       "      <td>2</td>\n",
       "      <td>248738</td>\n",
       "      <td>29.0000</td>\n",
       "      <td>NaN</td>\n",
       "      <td>S</td>\n",
       "    </tr>\n",
       "  </tbody>\n",
       "</table>\n",
       "</div>"
      ],
      "text/plain": [
       "             Survived  Pclass                             Name     Sex   Age  \\\n",
       "PassengerId                                                                    \n",
       "804                 1       3  Thomas, Master. Assad Alexander    male  0.42   \n",
       "756                 1       2        Hamalainen, Master. Viljo    male  0.67   \n",
       "645                 1       3           Baclini, Miss. Eugenie  female  0.75   \n",
       "470                 1       3    Baclini, Miss. Helene Barbara  female  0.75   \n",
       "79                  1       2    Caldwell, Master. Alden Gates    male  0.83   \n",
       "\n",
       "             SibSp  Parch  Ticket     Fare Cabin Embarked  \n",
       "PassengerId                                                \n",
       "804              0      1    2625   8.5167   NaN        C  \n",
       "756              1      1  250649  14.5000   NaN        S  \n",
       "645              2      1    2666  19.2583   NaN        C  \n",
       "470              2      1    2666  19.2583   NaN        C  \n",
       "79               0      2  248738  29.0000   NaN        S  "
      ]
     },
     "metadata": {},
     "output_type": "display_data"
    }
   ],
   "source": [
    "print \"Youngest Passengers:\"\n",
    "interesting_cases(\"Age\", all_data, 0, 5)"
   ]
  },
  {
   "cell_type": "markdown",
   "metadata": {},
   "source": [
    "All of the youngest passengers survived! And so did the oldest person."
   ]
  },
  {
   "cell_type": "code",
   "execution_count": 334,
   "metadata": {
    "collapsed": false
   },
   "outputs": [
    {
     "data": {
      "text/plain": [
       "Survived  Pclass\n",
       "0         1         43.695312\n",
       "          2         33.544444\n",
       "          3         26.555556\n",
       "1         1         35.368197\n",
       "          2         25.901566\n",
       "          3         20.646118\n",
       "Name: Age, dtype: float64"
      ]
     },
     "execution_count": 334,
     "metadata": {},
     "output_type": "execute_result"
    }
   ],
   "source": [
    "all_age_data['Age'].groupby([all_age_data[\"Survived\"],all_age_data[\"Pclass\"]]).mean()"
   ]
  },
  {
   "cell_type": "markdown",
   "metadata": {},
   "source": [
    "These mean values are very interesting because at first glance it looks like first class generally has older people than second class, which in turn has older people than third class. To explore this further, we look total age distributions:"
   ]
  },
  {
   "cell_type": "code",
   "execution_count": 336,
   "metadata": {
    "collapsed": false
   },
   "outputs": [
    {
     "data": {
      "text/plain": [
       "Pclass\n",
       "1    38.233441\n",
       "2    29.877630\n",
       "3    25.140620\n",
       "Name: Age, dtype: float64"
      ]
     },
     "execution_count": 336,
     "metadata": {},
     "output_type": "execute_result"
    }
   ],
   "source": [
    "all_age_data.groupby(\"Pclass\")[\"Age\"].apply(mean)"
   ]
  },
  {
   "cell_type": "markdown",
   "metadata": {},
   "source": [
    "This is an interesting, but I am not going to explore if the difference in age between the three classes is statistically significant. It might hold some interesting information so I am noting this."
   ]
  },
  {
   "cell_type": "code",
   "execution_count": 305,
   "metadata": {
    "collapsed": false
   },
   "outputs": [
    {
     "data": {
      "image/png": "[encoded data removed]",
      "text/plain": [
       "<matplotlib.figure.Figure at 0x12a32eb10>"
      ]
     },
     "metadata": {},
     "output_type": "display_data"
    },
    {
     "data": {
      "image/png": "[encoded data removed]",
      "text/plain": [
       "<matplotlib.figure.Figure at 0x12a17eb90>"
      ]
     },
     "metadata": {},
     "output_type": "display_data"
    },
    {
     "data": {
      "image/png": "[encoded data removed]",
      "text/plain": [
       "<matplotlib.figure.Figure at 0x1283653d0>"
      ]
     },
     "metadata": {},
     "output_type": "display_data"
    }
   ],
   "source": [
    "age_class_survive=all_age_data.groupby([all_data[\"Survived\"],all_data[\"Pclass\"]]) \n",
    "box_plot_by_class(\"Age\",1,age_class_survive)\n",
    "box_plot_by_class(\"Age\",2,age_class_survive)\n",
    "box_plot_by_class(\"Age\",3,age_class_survive)"
   ]
  },
  {
   "cell_type": "markdown",
   "metadata": {},
   "source": [
    "It seems the older folks are more likely to pass away by some margin. To figure out whether or not it is a statistically significant margin, let us use the t-statistic. The null hypothesis and alternative hypothesis:\n",
    "$$H_0: \\mu_{age-survived} = \\mu_{age-passed-away}$$\n",
    "$$H_A: \\mu_{age-survived} < \\mu_{age-passed-away}$$\n",
    "\n",
    "This is a one tailed test, and this time to reject the null hypothesis, we need a negative t-value that is at has $\\alpha$ level of 0.5."
   ]
  },
  {
   "cell_type": "code",
   "execution_count": 339,
   "metadata": {
    "collapsed": false
   },
   "outputs": [
    {
     "name": "stdout",
     "output_type": "stream",
     "text": [
      " First Class (t, df): (-3.6509525714666076, 184.0)\n",
      "Second Class: (-3.6886383406060586, 171.0)\n",
      "Third Class: (-3.9341776649088995, 353.0)\n"
     ]
    }
   ],
   "source": [
    "first_cl_age=t_stat_of_groups(\"Age\", 1, age_class_survive)\n",
    "print \"First Class (t, df):\", first_cl_age\n",
    "second_cl_age=t_stat_of_groups(\"Age\", 2, age_class_survive)\n",
    "print \"Second Class:\", second_cl_age\n",
    "third_cl_age=t_stat_of_groups(\"Age\", 3, age_class_survive)\n",
    "print \"Third Class:\", third_cl_age"
   ]
  },
  {
   "cell_type": "markdown",
   "metadata": {},
   "source": [
    "From Graphpad, using (t, df) values above for each class, this is the probability for two tailed test:\n",
    "First class: 0.0003\n",
    "Second class: 0.0003\n",
    "Third class: 0.0001\n",
    "\n",
    "For a one-tailed test (for an approximately symmetrical distribution) should be half of these probability values. Thes values tell us that the difference in age between those who survived and those who did not is extremely statistically significant. The $r^2$ value for each class would be:"
   ]
  },
  {
   "cell_type": "code",
   "execution_count": 342,
   "metadata": {
    "collapsed": false
   },
   "outputs": [
    {
     "name": "stdout",
     "output_type": "stream",
     "text": [
      "First class: 0.86953221482\n",
      "Second class: 0.871844596156\n",
      "Third class: 0.885568820138\n"
     ]
    }
   ],
   "source": [
    "print \"First class:\", rsquare(first_cl_age[0],first_cl_age[1])\n",
    "print \"Second class:\", rsquare(second_cl_age[0],second_cl_age[1])\n",
    "print \"Third class:\", rsquare(third_cl_age[0],third_cl_age[1])"
   ]
  },
  {
   "cell_type": "markdown",
   "metadata": {},
   "source": [
    "For all three classes, survival has a strong correlation with age. This does not necessarily show a causal link."
   ]
  },
  {
   "cell_type": "markdown",
   "metadata": {},
   "source": [
    "## Gender\n",
    "We could group passengers by gender, and find out what the male to female ratio was on the ship. It would also be intersting to know if men or women were more likely to travel with family members."
   ]
  },
  {
   "cell_type": "code",
   "execution_count": 379,
   "metadata": {
    "collapsed": false
   },
   "outputs": [
    {
     "name": "stdout",
     "output_type": "stream",
     "text": [
      "Total counts by gender:\n",
      "Sex\n",
      "female    314\n",
      "male      577\n",
      "Name: Survived, dtype: int64\n",
      "Numbers that survived by gender:\n",
      "Sex\n",
      "female    233\n",
      "male      109\n",
      "Name: Survived, dtype: int64\n",
      "Fraction of survivors by gender:\n",
      "Sex\n",
      "female    0.742038\n",
      "male      0.188908\n",
      "Name: Survived, dtype: float64\n"
     ]
    }
   ],
   "source": [
    "print \"Total counts by gender:\"\n",
    "total_by_gender=all_data.groupby([all_data['Sex']])['Survived'].count()\n",
    "print total_by_gender\n",
    "print \"Numbers that survived by gender:\"\n",
    "print all_data.groupby([all_data['Sex']])['Survived'].sum()\n",
    "print \"Fraction of survivors by gender:\"\n",
    "fraction_by_gender=all_data.groupby([all_data['Sex']])['Survived'].mean()\n",
    "print fraction_by_gender"
   ]
  },
  {
   "cell_type": "markdown",
   "metadata": {},
   "source": [
    "Running Fisher test to find if we can say that the difference in survival rates gender is statistically significant:\n",
    "$$H_0: \\mu_{female} = \\mu_{male}$$\n",
    "$$H_A: \\mu_{female} > \\mu_{male}$$\n"
   ]
  },
  {
   "cell_type": "code",
   "execution_count": 382,
   "metadata": {
    "collapsed": false
   },
   "outputs": [
    {
     "name": "stdout",
     "output_type": "stream",
     "text": [
      "Probability that both genders had same chances of survival: 6.94765817787e-60\n"
     ]
    }
   ],
   "source": [
    "survivor_numbers=fraction_by_gender*total_by_gender\n",
    "passed_away_numbers=(1.0-fraction_by_gender)*total_by_gender\n",
    "print \"Probability that both genders had same chances of survival:\", \\\n",
    "    fisher(\"female\", \"male\", survivor_numbers,passed_away_numbers, \"greater\")"
   ]
  },
  {
   "cell_type": "markdown",
   "metadata": {},
   "source": [
    "We can reject the null hypothesis that both genders had the same chances of survival. The alternative, that being female was correlated with a higher chance of survival is supported by Fisher's Exact test. This is just a correlation, not a causal link, unless we could find evidence that preference was given to women to board lifeboats."
   ]
  },
  {
   "cell_type": "code",
   "execution_count": 388,
   "metadata": {
    "collapsed": false
   },
   "outputs": [],
   "source": [
    "#cabin_survive=all_data.groupby(all_data[\"Ticket\"])\n",
    "#list(cabin_survive)"
   ]
  },
  {
   "cell_type": "markdown",
   "metadata": {},
   "source": [
    "## Conclusions\n",
    "\n",
    "This data set can be explored in many more ways. In this work, I have decided to look into whether or not age, passenger class, fare and gender has any correlations with surviving. My analysis suggests that **a higher fraction of first class passengers survived (63%) than did second class passengers (47%), and a higher fraction of second class passengers survived than third class passengers (24%). Also, a significantly higher fraction of women survived (74%) than men (19%)**. The statistical significance of both of these conclusions were supported by Fisher's Exact test.\n",
    "\n",
    "I also found that **fare differences between survivors and non-survivors within the first class was statistically significant (one-tailed student's t-test)**. But **fare differences between survivors among the other two classes was not statistically significant**. I also carried out t-test on age differences between survivors and non-survivors in each passenger class, and found that the difference is statistically significant in all three classes - **there is a strong anti-correlation between age of passengers in each class and survival**.\n",
    "\n",
    "There was something more that I would have liked to explore if I had more time for this project: whether or not people are more likely to survive if they travel with family members, especially young children. In the fare section, after looking at a print out of a couple of entries that included several members of a family, I realized one way to identify entire families traveling together would be using the *Ticket* or *Cabin* fields. Then we could look at whether men within families have a higher or lower chance of survival than men traveling along (because families with children migh have been given priority). I started looking at this aspect (in cell 388) - but I have to leave it for now.\n",
    "\n",
    "Note that this data might not be representative of the whole population of Titanic. We have data for only 891 people, and I am not sure how the data was collected. It could be from any surviving documents that was not in the Titanic itself - where  the survival information was later added during official investigation. Or maybe actual survivors or relatives of those who perished were later interviewed to collect all this information. There could be selection bias, such as wealthier, well-connected folks are more likely to be documented using the latter survey technique. Even survivors might be more likely to be documented than those who perished in such a survey. It might not be a completely random sample of 891 selected from the population of 2224, in which case all the trends we see in this data might not be exist to the same extent in the whole population."
   ]
  }
 ],
 "metadata": {
  "anaconda-cloud": {},
  "kernelspec": {
   "display_name": "Python [default]",
   "language": "python",
   "name": "python3"
  },
  "language_info": {
   "codemirror_mode": {
    "name": "ipython",
    "version": 3
   },
   "file_extension": ".py",
   "mimetype": "text/x-python",
   "name": "python",
   "nbconvert_exporter": "python",
   "pygments_lexer": "ipython3",
   "version": "3.5.2"
  }
 },
 "nbformat": 4,
 "nbformat_minor": 2
}
